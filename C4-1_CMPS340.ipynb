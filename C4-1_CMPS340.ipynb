{
 "cells": [
  {
   "cell_type": "markdown",
   "metadata": {},
   "source": [
    "# <center>CHALLENGE 4.1<center>"
   ]
  },
  {
   "cell_type": "markdown",
   "metadata": {},
   "source": [
    "<p>Team Name:Group 1\n",
    "<p>Student Names:Kaden Larussa, Brooks Schafer, Nick Solari\n",
    "<p>Student W#s:w0762283, w0711688, w0755643"
   ]
  },
  {
   "cell_type": "markdown",
   "metadata": {},
   "source": [
    "## Instructions\n",
    "Use <b>generic</b> coding style unless hard-coded values are really necessary.<br>\n",
    "Your code must be efficient and use self-explanatory naming.<br>\n",
    "Use appropriate Python library methods for each task instead of using loops.<br>\n",
    "Run your entire code and save <b>BEFORE</b> submitting. Then, submit this <b>saved</b> copy."
   ]
  },
  {
   "cell_type": "markdown",
   "metadata": {},
   "source": [
    "## Definitions"
   ]
  },
  {
   "cell_type": "markdown",
   "metadata": {},
   "source": [
    "AGE_12   : Passengers with age in \\[1, 13)<br>\n",
    "AGE_TEEN : Passengers with age in \\[13, 20)<br>\n",
    "AGE_YOUNG: Passengers with age in \\[20, 31)<br>\n",
    "AGE_OTHER: Passengers with age >= 31"
   ]
  },
  {
   "cell_type": "markdown",
   "metadata": {
    "collapsed": true
   },
   "source": [
    "## Imports"
   ]
  },
  {
   "cell_type": "code",
   "execution_count": 64,
   "metadata": {
    "collapsed": true
   },
   "outputs": [],
   "source": [
    "import pandas as pd\n",
    "import matplotlib as plt\n",
    "import numpy as np\n",
    "import os"
   ]
  },
  {
   "cell_type": "markdown",
   "metadata": {},
   "source": [
    "## Loading Data"
   ]
  },
  {
   "cell_type": "markdown",
   "metadata": {
    "collapsed": true
   },
   "source": [
    "Load \"titanic.csv\" into the data frame object \"data\"</br>\n",
    "[train.csv](https://github.com/wesm/pydata-book/blob/2nd-edition/datasets/titanic/train.csv)"
   ]
  },
  {
   "cell_type": "code",
   "execution_count": 65,
   "metadata": {
    "collapsed": true
   },
   "outputs": [],
   "source": [
    "data = pd.read_csv('titanic.csv')"
   ]
  },
  {
   "cell_type": "markdown",
   "metadata": {},
   "source": [
    "## Calculate Counts"
   ]
  },
  {
   "cell_type": "markdown",
   "metadata": {},
   "source": [
    "Calculate joint counts for each {Survived_i, Age_j}, i = {Yes, No}, j = {_12, _Teen, _Young, _Other}:"
   ]
  },
  {
   "cell_type": "code",
   "execution_count": 66,
   "metadata": {
    "collapsed": true
   },
   "outputs": [
    {
     "data": {
      "text/html": [
       "<div>\n",
       "<style scoped>\n",
       "    .dataframe tbody tr th:only-of-type {\n",
       "        vertical-align: middle;\n",
       "    }\n",
       "\n",
       "    .dataframe tbody tr th {\n",
       "        vertical-align: top;\n",
       "    }\n",
       "\n",
       "    .dataframe thead th {\n",
       "        text-align: right;\n",
       "    }\n",
       "</style>\n",
       "<table border=\"1\" class=\"dataframe\">\n",
       "  <thead>\n",
       "    <tr style=\"text-align: right;\">\n",
       "      <th>Age_Category</th>\n",
       "      <th>_12</th>\n",
       "      <th>_Other</th>\n",
       "      <th>_Teen</th>\n",
       "      <th>_Young</th>\n",
       "    </tr>\n",
       "    <tr>\n",
       "      <th>Survived</th>\n",
       "      <th></th>\n",
       "      <th></th>\n",
       "      <th></th>\n",
       "      <th></th>\n",
       "    </tr>\n",
       "  </thead>\n",
       "  <tbody>\n",
       "    <tr>\n",
       "      <th>No</th>\n",
       "      <td>29</td>\n",
       "      <td>227</td>\n",
       "      <td>56</td>\n",
       "      <td>237</td>\n",
       "    </tr>\n",
       "    <tr>\n",
       "      <th>Yes</th>\n",
       "      <td>40</td>\n",
       "      <td>113</td>\n",
       "      <td>39</td>\n",
       "      <td>150</td>\n",
       "    </tr>\n",
       "  </tbody>\n",
       "</table>\n",
       "</div>"
      ],
      "text/plain": [
       "Age_Category  _12  _Other  _Teen  _Young\n",
       "Survived                                \n",
       "No             29     227     56     237\n",
       "Yes            40     113     39     150"
      ]
     },
     "execution_count": 66,
     "metadata": {},
     "output_type": "execute_result"
    }
   ],
   "source": [
    "# Define age categories as per the provided specifications\n",
    "def age_category(age):\n",
    "    if age <= 12:\n",
    "        return '_12'\n",
    "    elif age > 12 and age < 20:\n",
    "        return '_Teen'\n",
    "    elif age >= 20 and age < 40:\n",
    "        return '_Young'\n",
    "    else:\n",
    "        return '_Other'\n",
    "\n",
    "data['Age_Category'] = data['Age'].apply(age_category)\n",
    "\n",
    "data['Survived'] = data['Survived'].map({1: 'Yes', 0: 'No'})\n",
    "\n",
    "joint_counts = pd.crosstab(data['Survived'], data['Age_Category'])\n",
    "\n",
    "joint_counts"
   ]
  },
  {
   "cell_type": "markdown",
   "metadata": {},
   "source": [
    "Calculate marginal counts for survive categories:"
   ]
  },
  {
   "cell_type": "code",
   "execution_count": 67,
   "metadata": {
    "collapsed": true
   },
   "outputs": [
    {
     "data": {
      "text/plain": [
       "Survived\n",
       "No     549\n",
       "Yes    342\n",
       "Name: count, dtype: int64"
      ]
     },
     "execution_count": 67,
     "metadata": {},
     "output_type": "execute_result"
    }
   ],
   "source": [
    "\n",
    "marginal_counts_survived_corrected = data['Survived'].value_counts()\n",
    "\n",
    "marginal_counts_survived_corrected\n"
   ]
  },
  {
   "cell_type": "markdown",
   "metadata": {},
   "source": [
    "Calculate marginal counts for age categories:"
   ]
  },
  {
   "cell_type": "code",
   "execution_count": 68,
   "metadata": {
    "collapsed": true
   },
   "outputs": [
    {
     "data": {
      "text/plain": [
       "Age_Category\n",
       "_Young    387\n",
       "_Other    340\n",
       "_Teen      95\n",
       "_12        69\n",
       "Name: count, dtype: int64"
      ]
     },
     "execution_count": 68,
     "metadata": {},
     "output_type": "execute_result"
    }
   ],
   "source": [
    "marginal_counts_age = data['Age_Category'].value_counts()\n",
    "\n",
    "marginal_counts_age\n"
   ]
  },
  {
   "cell_type": "markdown",
   "metadata": {},
   "source": [
    "Calculate total count of samples:"
   ]
  },
  {
   "cell_type": "code",
   "execution_count": 69,
   "metadata": {
    "collapsed": true
   },
   "outputs": [
    {
     "data": {
      "text/plain": [
       "891"
      ]
     },
     "execution_count": 69,
     "metadata": {},
     "output_type": "execute_result"
    }
   ],
   "source": [
    "\n",
    "total_count_samples = data.shape[0]  \n",
    "\n",
    "total_count_samples\n"
   ]
  },
  {
   "cell_type": "markdown",
   "metadata": {
    "collapsed": true
   },
   "source": [
    "Store all of the counts calculated above into the data frame \"Count\"<br>\n",
    ".    Column headers: Age categories and TOTAL<br>\n",
    ".    Row headers: survive categories, TOTAL<br>\n",
    "Print the object Count's content:"
   ]
  },
  {
   "cell_type": "code",
   "execution_count": 70,
   "metadata": {
    "collapsed": true
   },
   "outputs": [
    {
     "data": {
      "text/html": [
       "<div>\n",
       "<style scoped>\n",
       "    .dataframe tbody tr th:only-of-type {\n",
       "        vertical-align: middle;\n",
       "    }\n",
       "\n",
       "    .dataframe tbody tr th {\n",
       "        vertical-align: top;\n",
       "    }\n",
       "\n",
       "    .dataframe thead th {\n",
       "        text-align: right;\n",
       "    }\n",
       "</style>\n",
       "<table border=\"1\" class=\"dataframe\">\n",
       "  <thead>\n",
       "    <tr style=\"text-align: right;\">\n",
       "      <th>Age_Category</th>\n",
       "      <th>_12</th>\n",
       "      <th>_Other</th>\n",
       "      <th>_Teen</th>\n",
       "      <th>_Young</th>\n",
       "      <th>TOTAL</th>\n",
       "    </tr>\n",
       "    <tr>\n",
       "      <th>Survived</th>\n",
       "      <th></th>\n",
       "      <th></th>\n",
       "      <th></th>\n",
       "      <th></th>\n",
       "      <th></th>\n",
       "    </tr>\n",
       "  </thead>\n",
       "  <tbody>\n",
       "    <tr>\n",
       "      <th>No</th>\n",
       "      <td>29.0</td>\n",
       "      <td>227.0</td>\n",
       "      <td>56.0</td>\n",
       "      <td>237.0</td>\n",
       "      <td>549.0</td>\n",
       "    </tr>\n",
       "    <tr>\n",
       "      <th>Yes</th>\n",
       "      <td>40.0</td>\n",
       "      <td>113.0</td>\n",
       "      <td>39.0</td>\n",
       "      <td>150.0</td>\n",
       "      <td>342.0</td>\n",
       "    </tr>\n",
       "    <tr>\n",
       "      <th>TOTAL</th>\n",
       "      <td>69.0</td>\n",
       "      <td>340.0</td>\n",
       "      <td>95.0</td>\n",
       "      <td>387.0</td>\n",
       "      <td>891.0</td>\n",
       "    </tr>\n",
       "  </tbody>\n",
       "</table>\n",
       "</div>"
      ],
      "text/plain": [
       "Age_Category   _12  _Other  _Teen  _Young  TOTAL\n",
       "Survived                                        \n",
       "No            29.0   227.0   56.0   237.0  549.0\n",
       "Yes           40.0   113.0   39.0   150.0  342.0\n",
       "TOTAL         69.0   340.0   95.0   387.0  891.0"
      ]
     },
     "execution_count": 70,
     "metadata": {},
     "output_type": "execute_result"
    }
   ],
   "source": [
    "joint_counts = pd.crosstab(data['Survived'], data['Age_Category'])\n",
    "joint_counts.loc['TOTAL', :] = joint_counts.sum(axis=0)\n",
    "joint_counts['TOTAL'] = joint_counts.sum(axis=1)\n",
    "Count = joint_counts\n",
    "\n",
    "Count\n"
   ]
  },
  {
   "cell_type": "markdown",
   "metadata": {},
   "source": [
    "Save Counts into the text file \"Count.csv\" under the folder \"OUTPUT\".<br>\n",
    ".    Column headers: Age categories and TOTAL<br>\n",
    ".    Row headers: survive categories, TOTAL:"
   ]
  },
  {
   "cell_type": "code",
   "execution_count": 71,
   "metadata": {
    "collapsed": true
   },
   "outputs": [
    {
     "data": {
      "text/plain": [
       "'OUTPUT/Count.csv'"
      ]
     },
     "execution_count": 71,
     "metadata": {},
     "output_type": "execute_result"
    }
   ],
   "source": [
    "# Since there is no existing \"OUTPUT\" folder mentioned, it will be created in the specified directory if not present.\n",
    "output_directory = 'OUTPUT/'\n",
    "os.makedirs(output_directory, exist_ok=True)  # Create the OUTPUT directory if it doesn't exist\n",
    "output_file_path = os.path.join(output_directory, 'Count.csv')\n",
    "Count.to_csv(output_file_path, header=True, index=True)  \n",
    "\n",
    "output_file_path \n"
   ]
  },
  {
   "cell_type": "markdown",
   "metadata": {},
   "source": [
    "## Calculate Probabilities"
   ]
  },
  {
   "cell_type": "markdown",
   "metadata": {},
   "source": [
    "Generate the Probability Table T2- P() as described. Store into the data frame object \"P\". Print the object's content:"
   ]
  },
  {
   "cell_type": "code",
   "execution_count": 72,
   "metadata": {
    "collapsed": true
   },
   "outputs": [
    {
     "data": {
      "text/html": [
       "<div>\n",
       "<style scoped>\n",
       "    .dataframe tbody tr th:only-of-type {\n",
       "        vertical-align: middle;\n",
       "    }\n",
       "\n",
       "    .dataframe tbody tr th {\n",
       "        vertical-align: top;\n",
       "    }\n",
       "\n",
       "    .dataframe thead th {\n",
       "        text-align: right;\n",
       "    }\n",
       "</style>\n",
       "<table border=\"1\" class=\"dataframe\">\n",
       "  <thead>\n",
       "    <tr style=\"text-align: right;\">\n",
       "      <th></th>\n",
       "      <th>Age_12</th>\n",
       "      <th>Age_Teen</th>\n",
       "      <th>Age_Young</th>\n",
       "      <th>Age_Other</th>\n",
       "      <th>TOTAL</th>\n",
       "    </tr>\n",
       "    <tr>\n",
       "      <th>Survived</th>\n",
       "      <th></th>\n",
       "      <th></th>\n",
       "      <th></th>\n",
       "      <th></th>\n",
       "      <th></th>\n",
       "    </tr>\n",
       "  </thead>\n",
       "  <tbody>\n",
       "    <tr>\n",
       "      <th>No</th>\n",
       "      <td>29.0</td>\n",
       "      <td>56.0</td>\n",
       "      <td>237.0</td>\n",
       "      <td>227.0</td>\n",
       "      <td>549.0</td>\n",
       "    </tr>\n",
       "    <tr>\n",
       "      <th>Yes</th>\n",
       "      <td>40.0</td>\n",
       "      <td>39.0</td>\n",
       "      <td>150.0</td>\n",
       "      <td>113.0</td>\n",
       "      <td>342.0</td>\n",
       "    </tr>\n",
       "    <tr>\n",
       "      <th>TOTAL</th>\n",
       "      <td>69.0</td>\n",
       "      <td>95.0</td>\n",
       "      <td>387.0</td>\n",
       "      <td>340.0</td>\n",
       "      <td>891.0</td>\n",
       "    </tr>\n",
       "  </tbody>\n",
       "</table>\n",
       "</div>"
      ],
      "text/plain": [
       "          Age_12  Age_Teen  Age_Young  Age_Other  TOTAL\n",
       "Survived                                               \n",
       "No          29.0      56.0      237.0      227.0  549.0\n",
       "Yes         40.0      39.0      150.0      113.0  342.0\n",
       "TOTAL       69.0      95.0      387.0      340.0  891.0"
      ]
     },
     "execution_count": 72,
     "metadata": {},
     "output_type": "execute_result"
    }
   ],
   "source": [
    "P = Count.copy()  \n",
    "P = P.rename(index={'Not Survived = 0': 'Not Survived', 'Survived = 1': 'Survived'})\n",
    "P.columns = ['Age_12', 'Age_Other', 'Age_Teen', 'Age_Young', 'TOTAL']\n",
    "P = P[['Age_12', 'Age_Teen', 'Age_Young', 'Age_Other', 'TOTAL']] # reorder because im retarded and dont feel like going back sorry\n",
    "\n",
    "P"
   ]
  },
  {
   "cell_type": "markdown",
   "metadata": {},
   "source": [
    "Generate the Probability Table T3_1- P(Survive | Age) as described. Store into the data frame object \"P_SgA\". Print the object's content:"
   ]
  },
  {
   "cell_type": "code",
   "execution_count": 73,
   "metadata": {
    "collapsed": true
   },
   "outputs": [
    {
     "data": {
      "text/html": [
       "<div>\n",
       "<style scoped>\n",
       "    .dataframe tbody tr th:only-of-type {\n",
       "        vertical-align: middle;\n",
       "    }\n",
       "\n",
       "    .dataframe tbody tr th {\n",
       "        vertical-align: top;\n",
       "    }\n",
       "\n",
       "    .dataframe thead th {\n",
       "        text-align: right;\n",
       "    }\n",
       "</style>\n",
       "<table border=\"1\" class=\"dataframe\">\n",
       "  <thead>\n",
       "    <tr style=\"text-align: right;\">\n",
       "      <th></th>\n",
       "      <th>Age_12</th>\n",
       "      <th>Age_Teen</th>\n",
       "      <th>Age_Young</th>\n",
       "      <th>Age_Other</th>\n",
       "    </tr>\n",
       "  </thead>\n",
       "  <tbody>\n",
       "    <tr>\n",
       "      <th>Survived | Age</th>\n",
       "      <td>0.57971</td>\n",
       "      <td>0.410526</td>\n",
       "      <td>0.387597</td>\n",
       "      <td>0.332353</td>\n",
       "    </tr>\n",
       "    <tr>\n",
       "      <th>Not Survived | Age</th>\n",
       "      <td>0.42029</td>\n",
       "      <td>0.589474</td>\n",
       "      <td>0.612403</td>\n",
       "      <td>0.667647</td>\n",
       "    </tr>\n",
       "    <tr>\n",
       "      <th>TOTAL</th>\n",
       "      <td>69.00000</td>\n",
       "      <td>95.000000</td>\n",
       "      <td>387.000000</td>\n",
       "      <td>340.000000</td>\n",
       "    </tr>\n",
       "  </tbody>\n",
       "</table>\n",
       "</div>"
      ],
      "text/plain": [
       "                      Age_12   Age_Teen   Age_Young   Age_Other\n",
       "Survived | Age       0.57971   0.410526    0.387597    0.332353\n",
       "Not Survived | Age   0.42029   0.589474    0.612403    0.667647\n",
       "TOTAL               69.00000  95.000000  387.000000  340.000000"
      ]
     },
     "execution_count": 73,
     "metadata": {},
     "output_type": "execute_result"
    }
   ],
   "source": [
    "survivors_count = Count.loc['Yes', ['_12', '_Teen', '_Young', '_Other']]\n",
    "total_age_count = Count.loc['TOTAL', ['_12', '_Teen', '_Young', '_Other']]\n",
    "\n",
    "#calculate the conditional probability\n",
    "P_SgA = survivors_count / total_age_count\n",
    "P_SgA = pd.DataFrame(P_SgA).T\n",
    "\n",
    "P_SgA.index = ['Survived | Age'] #rename\n",
    "P_SgA.columns = ['Age_12', 'Age_Teen', 'Age_Young', 'Age_Other']\n",
    "\n",
    "P_SgA.loc['Not Survived | Age'] = 1 - P_SgA.loc['Survived | Age']\n",
    "P_SgA.loc['TOTAL'] = P.loc['TOTAL', ['Age_12', 'Age_Teen', 'Age_Young', 'Age_Other']] #add total row\n",
    "\n",
    "P_SgA\n",
    "\n"
   ]
  },
  {
   "cell_type": "markdown",
   "metadata": {},
   "source": [
    "Generate the Probability Table T3_2- P(Survive | Age) P(Age) as described. Store into the data frame object \"P_SgA_A\". Print the object's content:"
   ]
  },
  {
   "cell_type": "code",
   "execution_count": 74,
   "metadata": {
    "collapsed": true
   },
   "outputs": [
    {
     "data": {
      "text/html": [
       "<div>\n",
       "<style scoped>\n",
       "    .dataframe tbody tr th:only-of-type {\n",
       "        vertical-align: middle;\n",
       "    }\n",
       "\n",
       "    .dataframe tbody tr th {\n",
       "        vertical-align: top;\n",
       "    }\n",
       "\n",
       "    .dataframe thead th {\n",
       "        text-align: right;\n",
       "    }\n",
       "</style>\n",
       "<table border=\"1\" class=\"dataframe\">\n",
       "  <thead>\n",
       "    <tr style=\"text-align: right;\">\n",
       "      <th></th>\n",
       "      <th>Age_12</th>\n",
       "      <th>Age_Teen</th>\n",
       "      <th>Age_Young</th>\n",
       "      <th>Age_Other</th>\n",
       "    </tr>\n",
       "  </thead>\n",
       "  <tbody>\n",
       "    <tr>\n",
       "      <th>Survived | Age</th>\n",
       "      <td>40.0</td>\n",
       "      <td>39.0</td>\n",
       "      <td>150.0</td>\n",
       "      <td>113.0</td>\n",
       "    </tr>\n",
       "    <tr>\n",
       "      <th>Not Survived | Age</th>\n",
       "      <td>29.0</td>\n",
       "      <td>56.0</td>\n",
       "      <td>237.0</td>\n",
       "      <td>227.0</td>\n",
       "    </tr>\n",
       "    <tr>\n",
       "      <th>TOTAL</th>\n",
       "      <td>69.0</td>\n",
       "      <td>95.0</td>\n",
       "      <td>387.0</td>\n",
       "      <td>340.0</td>\n",
       "    </tr>\n",
       "  </tbody>\n",
       "</table>\n",
       "</div>"
      ],
      "text/plain": [
       "                    Age_12  Age_Teen  Age_Young  Age_Other\n",
       "Survived | Age        40.0      39.0      150.0      113.0\n",
       "Not Survived | Age    29.0      56.0      237.0      227.0\n",
       "TOTAL                 69.0      95.0      387.0      340.0"
      ]
     },
     "execution_count": 74,
     "metadata": {},
     "output_type": "execute_result"
    }
   ],
   "source": [
    "P_Age = P.loc['TOTAL', ['Age_12', 'Age_Teen', 'Age_Young', 'Age_Other']] #re extract the total row\n",
    "\n",
    "P_Survive_Given_Age = P_SgA.drop('TOTAL')\n",
    "P_SgA_A = P_Survive_Given_Age.mul(P_Age, axis=1)\n",
    "P_SgA_A.loc['TOTAL'] = P_SgA_A.sum(axis=0)\n",
    "\n",
    "P_SgA_A"
   ]
  },
  {
   "cell_type": "markdown",
   "metadata": {},
   "source": [
    "Generate the Probability Table T4_1- P(Age | Survive) as described. Store into the data frame object \"P_AgS\". Print the object's content:"
   ]
  },
  {
   "cell_type": "code",
   "execution_count": 75,
   "metadata": {
    "collapsed": true
   },
   "outputs": [
    {
     "data": {
      "text/html": [
       "<div>\n",
       "<style scoped>\n",
       "    .dataframe tbody tr th:only-of-type {\n",
       "        vertical-align: middle;\n",
       "    }\n",
       "\n",
       "    .dataframe tbody tr th {\n",
       "        vertical-align: top;\n",
       "    }\n",
       "\n",
       "    .dataframe thead th {\n",
       "        text-align: right;\n",
       "    }\n",
       "</style>\n",
       "<table border=\"1\" class=\"dataframe\">\n",
       "  <thead>\n",
       "    <tr style=\"text-align: right;\">\n",
       "      <th></th>\n",
       "      <th>Age_12</th>\n",
       "      <th>Age_Teen</th>\n",
       "      <th>Age_Young</th>\n",
       "      <th>Age_Other</th>\n",
       "      <th>TOTAL</th>\n",
       "    </tr>\n",
       "  </thead>\n",
       "  <tbody>\n",
       "    <tr>\n",
       "      <th>Survived</th>\n",
       "      <td>0.116959</td>\n",
       "      <td>0.114035</td>\n",
       "      <td>0.438596</td>\n",
       "      <td>0.330409</td>\n",
       "      <td>1.0</td>\n",
       "    </tr>\n",
       "    <tr>\n",
       "      <th>Not Survived</th>\n",
       "      <td>0.052823</td>\n",
       "      <td>0.102004</td>\n",
       "      <td>0.431694</td>\n",
       "      <td>0.413479</td>\n",
       "      <td>1.0</td>\n",
       "    </tr>\n",
       "  </tbody>\n",
       "</table>\n",
       "</div>"
      ],
      "text/plain": [
       "                Age_12  Age_Teen  Age_Young  Age_Other  TOTAL\n",
       "Survived      0.116959  0.114035   0.438596   0.330409    1.0\n",
       "Not Survived  0.052823  0.102004   0.431694   0.413479    1.0"
      ]
     },
     "execution_count": 75,
     "metadata": {},
     "output_type": "execute_result"
    }
   ],
   "source": [
    "survivors = Count.loc['Yes', :].drop('TOTAL')  #drop total column will be added later\n",
    "non_survivors = Count.loc['No', :].drop('TOTAL')\n",
    "\n",
    "#total survivors and non survivors\n",
    "total_survivors = survivors.sum()\n",
    "total_non_survivors = non_survivors.sum()\n",
    "\n",
    "#calculate cond probability\n",
    "P_Age_given_Survived = survivors / total_survivors\n",
    "P_Age_given_Not_Survived = non_survivors / total_non_survivors\n",
    "\n",
    "P_AgS = pd.DataFrame({\n",
    "    'Age_12': [P_Age_given_Survived['_12'], P_Age_given_Not_Survived['_12']],\n",
    "    'Age_Teen': [P_Age_given_Survived['_Teen'], P_Age_given_Not_Survived['_Teen']],\n",
    "    'Age_Young': [P_Age_given_Survived['_Young'], P_Age_given_Not_Survived['_Young']],\n",
    "    'Age_Other': [P_Age_given_Survived['_Other'], P_Age_given_Not_Survived['_Other']]\n",
    "}, index=['Survived', 'Not Survived'])\n",
    "\n",
    "P_AgS['TOTAL'] = P_AgS.sum(axis=1) #add total row again..\n",
    "\n",
    "P_AgS\n"
   ]
  },
  {
   "cell_type": "markdown",
   "metadata": {},
   "source": [
    "Generate the Probability Table T4_2- P(Age | Survive) P(Survive) as described. Store into the data frame object \"P_AgS_S\". Print the object's content:"
   ]
  },
  {
   "cell_type": "code",
   "execution_count": 85,
   "metadata": {
    "collapsed": true
   },
   "outputs": [
    {
     "data": {
      "text/html": [
       "<div>\n",
       "<style scoped>\n",
       "    .dataframe tbody tr th:only-of-type {\n",
       "        vertical-align: middle;\n",
       "    }\n",
       "\n",
       "    .dataframe tbody tr th {\n",
       "        vertical-align: top;\n",
       "    }\n",
       "\n",
       "    .dataframe thead th {\n",
       "        text-align: right;\n",
       "    }\n",
       "</style>\n",
       "<table border=\"1\" class=\"dataframe\">\n",
       "  <thead>\n",
       "    <tr style=\"text-align: right;\">\n",
       "      <th></th>\n",
       "      <th>Age_12</th>\n",
       "      <th>Age_Teen</th>\n",
       "      <th>Age_Young</th>\n",
       "      <th>Age_Other</th>\n",
       "      <th>TOTAL</th>\n",
       "    </tr>\n",
       "  </thead>\n",
       "  <tbody>\n",
       "    <tr>\n",
       "      <th>Survived</th>\n",
       "      <td>0.044893</td>\n",
       "      <td>0.043771</td>\n",
       "      <td>0.168350</td>\n",
       "      <td>0.126824</td>\n",
       "      <td>0.383838</td>\n",
       "    </tr>\n",
       "    <tr>\n",
       "      <th>Not Survived</th>\n",
       "      <td>0.032548</td>\n",
       "      <td>0.062851</td>\n",
       "      <td>0.265993</td>\n",
       "      <td>0.254770</td>\n",
       "      <td>0.616162</td>\n",
       "    </tr>\n",
       "    <tr>\n",
       "      <th>TOTAL</th>\n",
       "      <td>0.077441</td>\n",
       "      <td>0.106622</td>\n",
       "      <td>0.434343</td>\n",
       "      <td>0.381594</td>\n",
       "      <td>1.000000</td>\n",
       "    </tr>\n",
       "  </tbody>\n",
       "</table>\n",
       "</div>"
      ],
      "text/plain": [
       "                Age_12  Age_Teen  Age_Young  Age_Other     TOTAL\n",
       "Survived      0.044893  0.043771   0.168350   0.126824  0.383838\n",
       "Not Survived  0.032548  0.062851   0.265993   0.254770  0.616162\n",
       "TOTAL         0.077441  0.106622   0.434343   0.381594  1.000000"
      ]
     },
     "execution_count": 85,
     "metadata": {},
     "output_type": "execute_result"
    }
   ],
   "source": [
    "#marginal probabilities\n",
    "P_Survive = Count.loc['Yes', 'TOTAL'] / total_count_samples\n",
    "P_Not_Survive = Count.loc['No', 'TOTAL'] / total_count_samples\n",
    "\n",
    "#copy the table for manipulation since im lazy\n",
    "P_AgS_S = P_AgS.copy()\n",
    "\n",
    "# get joint probabilities\n",
    "P_AgS_S.loc['Survived'] *= P_Survive\n",
    "P_AgS_S.loc['Not Survived'] *= P_Not_Survive\n",
    "\n",
    "# total joint probabilities\n",
    "P_AgS_S.loc['TOTAL'] = P_AgS_S.sum(axis=0)\n",
    "\n",
    "\n",
    "P_AgS_S\n"
   ]
  },
  {
   "cell_type": "markdown",
   "metadata": {
    "collapsed": true
   },
   "source": [
    "## Compare"
   ]
  },
  {
   "cell_type": "markdown",
   "metadata": {},
   "source": [
    "Compare the row TOTAL of T3_1- P(Survive | Age) with the row TOTAL of T2- P(). Explain:"
   ]
  },
  {
   "cell_type": "code",
   "execution_count": 77,
   "metadata": {
    "collapsed": true
   },
   "outputs": [
    {
     "name": "stdout",
     "output_type": "stream",
     "text": [
      "                      Age_12   Age_Teen   Age_Young   Age_Other\n",
      "Survived | Age       0.57971   0.410526    0.387597    0.332353\n",
      "Not Survived | Age   0.42029   0.589474    0.612403    0.667647\n",
      "TOTAL               69.00000  95.000000  387.000000  340.000000 \n",
      "\n",
      "           Age_12  Age_Teen  Age_Young  Age_Other  TOTAL\n",
      "Survived                                               \n",
      "No          29.0      56.0      237.0      227.0  549.0\n",
      "Yes         40.0      39.0      150.0      113.0  342.0\n",
      "TOTAL       69.0      95.0      387.0      340.0  891.0\n"
     ]
    }
   ],
   "source": [
    "print(P_SgA, '\\n\\n', P)\n",
    "\n",
    "# T3_1 'TOTAL' row shows conditional probabilities of survival per age group (sum should be 1 per group).\n",
    "# T2 'TOTAL' row shows actual counts of people per age group, regardless of survival status\n"
   ]
  },
  {
   "cell_type": "markdown",
   "metadata": {},
   "source": [
    "Compare the row TOTAL of T3_2- P(Survive | Age) P(Age) with the row TOTAL of T2- P(). Explain:"
   ]
  },
  {
   "cell_type": "code",
   "execution_count": 78,
   "metadata": {
    "collapsed": true
   },
   "outputs": [
    {
     "name": "stdout",
     "output_type": "stream",
     "text": [
      "                    Age_12  Age_Teen  Age_Young  Age_Other\n",
      "Survived | Age        40.0      39.0      150.0      113.0\n",
      "Not Survived | Age    29.0      56.0      237.0      227.0\n",
      "TOTAL                 69.0      95.0      387.0      340.0 \n",
      "\n",
      "                 Age_12  Age_Teen  Age_Young  Age_Other  TOTAL\n",
      "Survived      0.116959  0.114035   0.438596   0.330409    1.0\n",
      "Not Survived  0.052823  0.102004   0.431694   0.413479    1.0\n"
     ]
    }
   ],
   "source": [
    "print(P_SgA_A, '\\n\\n', P_AgS)\n",
    "\n",
    "# T3_2 'TOTAL' row represents the combined probability of survival and age group distribution\n",
    "# T2 'TOTAL' row shows actual counts of survival status.\n",
    "# T3_2's probabilities reflect theoretical likelihoods, while T2's counts are empirical data"
   ]
  },
  {
   "cell_type": "markdown",
   "metadata": {},
   "source": [
    "Compare the column TOTAL of T4_1- P(Age | Survive) with the column TOTAL of T2- P(). Explain:"
   ]
  },
  {
   "cell_type": "code",
   "execution_count": 79,
   "metadata": {
    "collapsed": true
   },
   "outputs": [
    {
     "name": "stdout",
     "output_type": "stream",
     "text": [
      "                Age_12  Age_Teen  Age_Young  Age_Other  TOTAL\n",
      "Survived      0.116959  0.114035   0.438596   0.330409    1.0\n",
      "Not Survived  0.052823  0.102004   0.431694   0.413479    1.0 \n",
      "\n",
      "           Age_12  Age_Teen  Age_Young  Age_Other  TOTAL\n",
      "Survived                                               \n",
      "No          29.0      56.0      237.0      227.0  549.0\n",
      "Yes         40.0      39.0      150.0      113.0  342.0\n",
      "TOTAL       69.0      95.0      387.0      340.0  891.0\n"
     ]
    }
   ],
   "source": [
    "print(P_AgS, '\\n\\n', P)\n",
    "# T4_1 'TOTAL' column shows probability distribution of age groups within each survival status (sums to 1)\n",
    "# T2 'TOTAL' column shows actual counts of survivors and non-survivors, regardless of age group\n",
    "# T4_1 provides theoretical likelihoods within survival categories, while T2 provides empirical data\n"
   ]
  },
  {
   "cell_type": "markdown",
   "metadata": {},
   "source": [
    "Compare the column TOTAL of T4_2- P(Age | Survive) P(Survive) with the column TOTAL of T2- P(). Explain:"
   ]
  },
  {
   "cell_type": "code",
   "execution_count": 80,
   "metadata": {
    "collapsed": true
   },
   "outputs": [
    {
     "name": "stdout",
     "output_type": "stream",
     "text": [
      "                Age_12  Age_Teen  Age_Young  Age_Other     TOTAL\n",
      "Survived      0.044893  0.043771   0.168350   0.126824  0.383838\n",
      "Not Survived  0.032548  0.062851   0.265993   0.254770  0.616162\n",
      "TOTAL         0.077441  0.106622   0.434343   0.381594  1.000000 \n",
      "\n",
      "           Age_12  Age_Teen  Age_Young  Age_Other  TOTAL\n",
      "Survived                                               \n",
      "No          29.0      56.0      237.0      227.0  549.0\n",
      "Yes         40.0      39.0      150.0      113.0  342.0\n",
      "TOTAL       69.0      95.0      387.0      340.0  891.0\n"
     ]
    }
   ],
   "source": [
    "print(P_AgS_S, '\\n\\n', P)\n",
    "\n",
    "# T4_2 'TOTAL' column represents the combined probability of each age group and survival status\n",
    "# T2 'TOTAL' column shows actual counts of survivors and non-survivors across age groups\n",
    "# T4_2's probabilities reflect theoretical likelihoods, while T2's counts are empirical data"
   ]
  },
  {
   "cell_type": "markdown",
   "metadata": {
    "collapsed": true
   },
   "source": [
    "## <center> REFERENCES </center>\n",
    "List resources (book, internet page, etc.) that you used to complete this challenge."
   ]
  },
  {
   "cell_type": "markdown",
   "metadata": {},
   "source": []
  }
 ],
 "metadata": {
  "kernelspec": {
   "display_name": "Python 3",
   "language": "python",
   "name": "python3"
  },
  "language_info": {
   "codemirror_mode": {
    "name": "ipython",
    "version": 3
   },
   "file_extension": ".py",
   "mimetype": "text/x-python",
   "name": "python",
   "nbconvert_exporter": "python",
   "pygments_lexer": "ipython3",
   "version": "3.11.5"
  }
 },
 "nbformat": 4,
 "nbformat_minor": 2
}
