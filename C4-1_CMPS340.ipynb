{
 "cells": [
  {
   "cell_type": "markdown",
   "metadata": {},
   "source": [
    "# <center>CHALLENGE 4.1<center>"
   ]
  },
  {
   "cell_type": "markdown",
   "metadata": {},
   "source": [
    "<p>Team Name:Group 1\n",
    "<p>Student Names:Kaden Larussa, Brooks Schafer, Nick Solari\n",
    "<p>Student W#s:w0762283, w0711688, w0755643"
   ]
  },
  {
   "cell_type": "markdown",
   "metadata": {},
   "source": [
    "## Instructions\n",
    "Use <b>generic</b> coding style unless hard-coded values are really necessary.<br>\n",
    "Your code must be efficient and use self-explanatory naming.<br>\n",
    "Use appropriate Python library methods for each task instead of using loops.<br>\n",
    "Run your entire code and save <b>BEFORE</b> submitting. Then, submit this <b>saved</b> copy."
   ]
  },
  {
   "cell_type": "markdown",
   "metadata": {},
   "source": [
    "## Definitions"
   ]
  },
  {
   "cell_type": "markdown",
   "metadata": {},
   "source": [
    "AGE_12   : Passengers with age in \\[1, 13)<br>\n",
    "AGE_TEEN : Passengers with age in \\[13, 20)<br>\n",
    "AGE_YOUNG: Passengers with age in \\[20, 31)<br>\n",
    "AGE_OTHER: Passengers with age >= 31"
   ]
  },
  {
   "cell_type": "markdown",
   "metadata": {
    "collapsed": true
   },
   "source": [
    "## Imports"
   ]
  },
  {
   "cell_type": "code",
   "execution_count": 63,
   "metadata": {
    "collapsed": true
   },
   "outputs": [],
   "source": [
    "import pandas as pd\n",
    "import matplotlib as plt\n",
    "import numpy as np\n",
    "import os"
   ]
  },
  {
   "cell_type": "markdown",
   "metadata": {},
   "source": [
    "## Loading Data"
   ]
  },
  {
   "cell_type": "markdown",
   "metadata": {
    "collapsed": true
   },
   "source": [
    "Load \"titanic.csv\" into the data frame object \"data\"</br>\n",
    "[train.csv](https://github.com/wesm/pydata-book/blob/2nd-edition/datasets/titanic/train.csv)"
   ]
  },
  {
   "cell_type": "code",
   "execution_count": 64,
   "metadata": {
    "collapsed": true
   },
   "outputs": [],
   "source": [
    "data = pd.read_csv('titanic.csv')"
   ]
  },
  {
   "cell_type": "markdown",
   "metadata": {},
   "source": [
    "## Calculate Counts"
   ]
  },
  {
   "cell_type": "markdown",
   "metadata": {},
   "source": [
    "Calculate joint counts for each {Survived_i, Age_j}, i = {Yes, No}, j = {_12, _Teen, _Young, _Other}:"
   ]
  },
  {
   "cell_type": "code",
   "execution_count": 65,
   "metadata": {
    "collapsed": true
   },
   "outputs": [
    {
     "data": {
      "text/html": [
       "<div>\n",
       "<style scoped>\n",
       "    .dataframe tbody tr th:only-of-type {\n",
       "        vertical-align: middle;\n",
       "    }\n",
       "\n",
       "    .dataframe tbody tr th {\n",
       "        vertical-align: top;\n",
       "    }\n",
       "\n",
       "    .dataframe thead th {\n",
       "        text-align: right;\n",
       "    }\n",
       "</style>\n",
       "<table border=\"1\" class=\"dataframe\">\n",
       "  <thead>\n",
       "    <tr style=\"text-align: right;\">\n",
       "      <th>Age_Category</th>\n",
       "      <th>_12</th>\n",
       "      <th>_Other</th>\n",
       "      <th>_Teen</th>\n",
       "      <th>_Young</th>\n",
       "    </tr>\n",
       "    <tr>\n",
       "      <th>Survived</th>\n",
       "      <th></th>\n",
       "      <th></th>\n",
       "      <th></th>\n",
       "      <th></th>\n",
       "    </tr>\n",
       "  </thead>\n",
       "  <tbody>\n",
       "    <tr>\n",
       "      <th>No</th>\n",
       "      <td>29</td>\n",
       "      <td>227</td>\n",
       "      <td>56</td>\n",
       "      <td>237</td>\n",
       "    </tr>\n",
       "    <tr>\n",
       "      <th>Yes</th>\n",
       "      <td>40</td>\n",
       "      <td>113</td>\n",
       "      <td>39</td>\n",
       "      <td>150</td>\n",
       "    </tr>\n",
       "  </tbody>\n",
       "</table>\n",
       "</div>"
      ],
      "text/plain": [
       "Age_Category  _12  _Other  _Teen  _Young\n",
       "Survived                                \n",
       "No             29     227     56     237\n",
       "Yes            40     113     39     150"
      ]
     },
     "execution_count": 65,
     "metadata": {},
     "output_type": "execute_result"
    }
   ],
   "source": [
    "# Define age categories as per the provided specifications\n",
    "def age_category(age):\n",
    "    if age <= 12:\n",
    "        return '_12'\n",
    "    elif age > 12 and age < 20:\n",
    "        return '_Teen'\n",
    "    elif age >= 20 and age < 40:\n",
    "        return '_Young'\n",
    "    else:\n",
    "        return '_Other'\n",
    "\n",
    "data['Age_Category'] = data['Age'].apply(age_category)\n",
    "\n",
    "data['Survived'] = data['Survived'].map({1: 'Yes', 0: 'No'})\n",
    "\n",
    "joint_counts = pd.crosstab(data['Survived'], data['Age_Category'])\n",
    "\n",
    "joint_counts"
   ]
  },
  {
   "cell_type": "markdown",
   "metadata": {},
   "source": [
    "Calculate marginal counts for survive categories:"
   ]
  },
  {
   "cell_type": "code",
   "execution_count": 66,
   "metadata": {
    "collapsed": true
   },
   "outputs": [
    {
     "data": {
      "text/plain": [
       "Survived\n",
       "No     549\n",
       "Yes    342\n",
       "Name: count, dtype: int64"
      ]
     },
     "execution_count": 66,
     "metadata": {},
     "output_type": "execute_result"
    }
   ],
   "source": [
    "\n",
    "marginal_counts_survived_corrected = data['Survived'].value_counts()\n",
    "\n",
    "marginal_counts_survived_corrected\n"
   ]
  },
  {
   "cell_type": "markdown",
   "metadata": {},
   "source": [
    "Calculate marginal counts for age categories:"
   ]
  },
  {
   "cell_type": "code",
   "execution_count": 67,
   "metadata": {
    "collapsed": true
   },
   "outputs": [
    {
     "data": {
      "text/plain": [
       "Age_Category\n",
       "_Young    387\n",
       "_Other    340\n",
       "_Teen      95\n",
       "_12        69\n",
       "Name: count, dtype: int64"
      ]
     },
     "execution_count": 67,
     "metadata": {},
     "output_type": "execute_result"
    }
   ],
   "source": [
    "marginal_counts_age = data['Age_Category'].value_counts()\n",
    "\n",
    "marginal_counts_age\n"
   ]
  },
  {
   "cell_type": "markdown",
   "metadata": {},
   "source": [
    "Calculate total count of samples:"
   ]
  },
  {
   "cell_type": "code",
   "execution_count": 68,
   "metadata": {
    "collapsed": true
   },
   "outputs": [
    {
     "data": {
      "text/plain": [
       "891"
      ]
     },
     "execution_count": 68,
     "metadata": {},
     "output_type": "execute_result"
    }
   ],
   "source": [
    "\n",
    "total_count_samples = data.shape[0]  \n",
    "\n",
    "total_count_samples\n"
   ]
  },
  {
   "cell_type": "markdown",
   "metadata": {
    "collapsed": true
   },
   "source": [
    "Store all of the counts calculated above into the data frame \"Count\"<br>\n",
    ".    Column headers: Age categories and TOTAL<br>\n",
    ".    Row headers: survive categories, TOTAL<br>\n",
    "Print the object Count's content:"
   ]
  },
  {
   "cell_type": "code",
   "execution_count": 69,
   "metadata": {
    "collapsed": true
   },
   "outputs": [
    {
     "data": {
      "text/html": [
       "<div>\n",
       "<style scoped>\n",
       "    .dataframe tbody tr th:only-of-type {\n",
       "        vertical-align: middle;\n",
       "    }\n",
       "\n",
       "    .dataframe tbody tr th {\n",
       "        vertical-align: top;\n",
       "    }\n",
       "\n",
       "    .dataframe thead th {\n",
       "        text-align: right;\n",
       "    }\n",
       "</style>\n",
       "<table border=\"1\" class=\"dataframe\">\n",
       "  <thead>\n",
       "    <tr style=\"text-align: right;\">\n",
       "      <th>Age_Category</th>\n",
       "      <th>_12</th>\n",
       "      <th>_Other</th>\n",
       "      <th>_Teen</th>\n",
       "      <th>_Young</th>\n",
       "      <th>TOTAL</th>\n",
       "    </tr>\n",
       "    <tr>\n",
       "      <th>Survived</th>\n",
       "      <th></th>\n",
       "      <th></th>\n",
       "      <th></th>\n",
       "      <th></th>\n",
       "      <th></th>\n",
       "    </tr>\n",
       "  </thead>\n",
       "  <tbody>\n",
       "    <tr>\n",
       "      <th>No</th>\n",
       "      <td>29.0</td>\n",
       "      <td>227.0</td>\n",
       "      <td>56.0</td>\n",
       "      <td>237.0</td>\n",
       "      <td>549.0</td>\n",
       "    </tr>\n",
       "    <tr>\n",
       "      <th>Yes</th>\n",
       "      <td>40.0</td>\n",
       "      <td>113.0</td>\n",
       "      <td>39.0</td>\n",
       "      <td>150.0</td>\n",
       "      <td>342.0</td>\n",
       "    </tr>\n",
       "    <tr>\n",
       "      <th>TOTAL</th>\n",
       "      <td>69.0</td>\n",
       "      <td>340.0</td>\n",
       "      <td>95.0</td>\n",
       "      <td>387.0</td>\n",
       "      <td>891.0</td>\n",
       "    </tr>\n",
       "  </tbody>\n",
       "</table>\n",
       "</div>"
      ],
      "text/plain": [
       "Age_Category   _12  _Other  _Teen  _Young  TOTAL\n",
       "Survived                                        \n",
       "No            29.0   227.0   56.0   237.0  549.0\n",
       "Yes           40.0   113.0   39.0   150.0  342.0\n",
       "TOTAL         69.0   340.0   95.0   387.0  891.0"
      ]
     },
     "execution_count": 69,
     "metadata": {},
     "output_type": "execute_result"
    }
   ],
   "source": [
    "\n",
    "\n",
    "# Calculate the joint counts again to reset the previous manipulation\n",
    "joint_counts = pd.crosstab(data['Survived'], data['Age_Category'])\n",
    "\n",
    "# Add marginal totals for rows at the end of the joint_counts DataFrame\n",
    "joint_counts.loc['TOTAL', :] = joint_counts.sum(axis=0)\n",
    "\n",
    "# Add marginal totals for columns\n",
    "joint_counts['TOTAL'] = joint_counts.sum(axis=1)\n",
    "\n",
    "# The corrected \"Count\" DataFrame\n",
    "Count = joint_counts\n",
    "\n",
    "\n",
    "Count\n"
   ]
  },
  {
   "cell_type": "markdown",
   "metadata": {},
   "source": [
    "Save Counts into the text file \"Count.csv\" under the folder \"OUTPUT\".<br>\n",
    ".    Column headers: Age categories and TOTAL<br>\n",
    ".    Row headers: survive categories, TOTAL:"
   ]
  },
  {
   "cell_type": "code",
   "execution_count": 70,
   "metadata": {
    "collapsed": true
   },
   "outputs": [
    {
     "data": {
      "text/plain": [
       "'OUTPUT/Count.csv'"
      ]
     },
     "execution_count": 70,
     "metadata": {},
     "output_type": "execute_result"
    }
   ],
   "source": [
    "# Since there is no existing \"OUTPUT\" folder mentioned, it will be created in the specified directory if not present.\n",
    "output_directory = 'OUTPUT/'\n",
    "os.makedirs(output_directory, exist_ok=True)  # Create the OUTPUT directory if it doesn't exist\n",
    "\n",
    "# Define the file path\n",
    "output_file_path = os.path.join(output_directory, 'Count.csv')\n",
    "\n",
    "# Save the Count dataframe to a CSV file\n",
    "Count.to_csv(output_file_path, header=True, index=True)  # Include headers and index in the output file\n",
    "\n",
    "output_file_path  # Return the path of the created file for access\n"
   ]
  },
  {
   "cell_type": "markdown",
   "metadata": {},
   "source": [
    "## Calculate Probabilities"
   ]
  },
  {
   "cell_type": "markdown",
   "metadata": {},
   "source": [
    "Generate the Probability Table T2- P() as described. Store into the data frame object \"P\". Print the object's content:"
   ]
  },
  {
   "cell_type": "code",
   "execution_count": 71,
   "metadata": {
    "collapsed": true
   },
   "outputs": [
    {
     "data": {
      "text/html": [
       "<div>\n",
       "<style scoped>\n",
       "    .dataframe tbody tr th:only-of-type {\n",
       "        vertical-align: middle;\n",
       "    }\n",
       "\n",
       "    .dataframe tbody tr th {\n",
       "        vertical-align: top;\n",
       "    }\n",
       "\n",
       "    .dataframe thead th {\n",
       "        text-align: right;\n",
       "    }\n",
       "</style>\n",
       "<table border=\"1\" class=\"dataframe\">\n",
       "  <thead>\n",
       "    <tr style=\"text-align: right;\">\n",
       "      <th></th>\n",
       "      <th>Age_12</th>\n",
       "      <th>Age_Teen</th>\n",
       "      <th>Age_Young</th>\n",
       "      <th>Age_Other</th>\n",
       "      <th>TOTAL</th>\n",
       "    </tr>\n",
       "  </thead>\n",
       "  <tbody>\n",
       "    <tr>\n",
       "      <th>No</th>\n",
       "      <td>0.032548</td>\n",
       "      <td>0.265993</td>\n",
       "      <td>0.254770</td>\n",
       "      <td>0.062851</td>\n",
       "      <td>0.616162</td>\n",
       "    </tr>\n",
       "    <tr>\n",
       "      <th>Yes</th>\n",
       "      <td>0.044893</td>\n",
       "      <td>0.168350</td>\n",
       "      <td>0.126824</td>\n",
       "      <td>0.043771</td>\n",
       "      <td>0.383838</td>\n",
       "    </tr>\n",
       "    <tr>\n",
       "      <th>TOTAL</th>\n",
       "      <td>0.077441</td>\n",
       "      <td>0.434343</td>\n",
       "      <td>0.381594</td>\n",
       "      <td>0.106622</td>\n",
       "      <td>1.000000</td>\n",
       "    </tr>\n",
       "  </tbody>\n",
       "</table>\n",
       "</div>"
      ],
      "text/plain": [
       "         Age_12  Age_Teen  Age_Young  Age_Other     TOTAL\n",
       "No     0.032548  0.265993   0.254770   0.062851  0.616162\n",
       "Yes    0.044893  0.168350   0.126824   0.043771  0.383838\n",
       "TOTAL  0.077441  0.434343   0.381594   0.106622  1.000000"
      ]
     },
     "execution_count": 71,
     "metadata": {},
     "output_type": "execute_result"
    }
   ],
   "source": [
    "# Transposing the DataFrame \"P\" back to its original form to match the provided image format\n",
    "P = P.T\n",
    "\n",
    "# Renaming the index to match the provided image for the probability table\n",
    "P = P.rename(index={'Not Survived = 0': 'Not Survived', 'Survived = 1': 'Survived'})\n",
    "\n",
    "# Renaming the columns to match the provided image for the probability table\n",
    "P.columns = ['Age_12', 'Age_Other', 'Age_Teen', 'Age_Young', 'TOTAL']\n",
    "\n",
    "# reorder because im retarded\n",
    "P = P[['Age_12', 'Age_Teen', 'Age_Young', 'Age_Other', 'TOTAL']]\n",
    "\n",
    "# Display the reordered 'P' DataFrame\n",
    "\n",
    "P\n"
   ]
  },
  {
   "cell_type": "markdown",
   "metadata": {},
   "source": [
    "Generate the Probability Table T3_1- P(Survive | Age) as described. Store into the data frame object \"P_SgA\". Print the object's content:"
   ]
  },
  {
   "cell_type": "code",
   "execution_count": 72,
   "metadata": {
    "collapsed": true
   },
   "outputs": [
    {
     "data": {
      "text/html": [
       "<div>\n",
       "<style scoped>\n",
       "    .dataframe tbody tr th:only-of-type {\n",
       "        vertical-align: middle;\n",
       "    }\n",
       "\n",
       "    .dataframe tbody tr th {\n",
       "        vertical-align: top;\n",
       "    }\n",
       "\n",
       "    .dataframe thead th {\n",
       "        text-align: right;\n",
       "    }\n",
       "</style>\n",
       "<table border=\"1\" class=\"dataframe\">\n",
       "  <thead>\n",
       "    <tr style=\"text-align: right;\">\n",
       "      <th></th>\n",
       "      <th>Age_12</th>\n",
       "      <th>Age_Teen</th>\n",
       "      <th>Age_Young</th>\n",
       "      <th>Age_Other</th>\n",
       "    </tr>\n",
       "  </thead>\n",
       "  <tbody>\n",
       "    <tr>\n",
       "      <th>Survived | Age</th>\n",
       "      <td>0.579710</td>\n",
       "      <td>0.410526</td>\n",
       "      <td>0.387597</td>\n",
       "      <td>0.332353</td>\n",
       "    </tr>\n",
       "    <tr>\n",
       "      <th>Not Survived | Age</th>\n",
       "      <td>0.420290</td>\n",
       "      <td>0.589474</td>\n",
       "      <td>0.612403</td>\n",
       "      <td>0.667647</td>\n",
       "    </tr>\n",
       "    <tr>\n",
       "      <th>TOTAL</th>\n",
       "      <td>0.077441</td>\n",
       "      <td>0.434343</td>\n",
       "      <td>0.381594</td>\n",
       "      <td>0.106622</td>\n",
       "    </tr>\n",
       "  </tbody>\n",
       "</table>\n",
       "</div>"
      ],
      "text/plain": [
       "                      Age_12  Age_Teen  Age_Young  Age_Other\n",
       "Survived | Age      0.579710  0.410526   0.387597   0.332353\n",
       "Not Survived | Age  0.420290  0.589474   0.612403   0.667647\n",
       "TOTAL               0.077441  0.434343   0.381594   0.106622"
      ]
     },
     "execution_count": 72,
     "metadata": {},
     "output_type": "execute_result"
    }
   ],
   "source": [
    "# Calculating P(Survive | Age) which is the probability of survival within each age category\n",
    "# This requires dividing the count of survivors by the total count within each age category\n",
    "\n",
    "# Isolating the counts of survivors and non-survivors for each age category from the 'Count' DataFrame\n",
    "survivors_count = Count.loc['Yes', ['_12', '_Teen', '_Young', '_Other']]\n",
    "total_age_count = Count.loc['TOTAL', ['_12', '_Teen', '_Young', '_Other']]\n",
    "\n",
    "# Calculating the conditional probability of survival within each age category\n",
    "P_SgA = survivors_count / total_age_count\n",
    "\n",
    "# Creating a DataFrame from the series and transposing it to match the requested format\n",
    "P_SgA = pd.DataFrame(P_SgA).T\n",
    "\n",
    "# Renaming index and columns to match the structure provided in the image\n",
    "P_SgA.index = ['Survived | Age']\n",
    "P_SgA.columns = ['Age_12', 'Age_Teen', 'Age_Young', 'Age_Other']\n",
    "\n",
    "# Adding a row for 'Not Survived | Age' by subtracting 'Survived | Age' from 1\n",
    "P_SgA.loc['Not Survived | Age'] = 1 - P_SgA.loc['Survived | Age']\n",
    "\n",
    "# Adding the 'TOTAL' row for marginal probabilities of survival, which we already have in DataFrame 'P'\n",
    "P_SgA.loc['TOTAL'] = P.loc['TOTAL', ['Age_12', 'Age_Teen', 'Age_Young', 'Age_Other']]\n",
    "\n",
    "# Displaying the \"P_SgA\" DataFrame\n",
    "P_SgA\n"
   ]
  },
  {
   "cell_type": "markdown",
   "metadata": {},
   "source": [
    "Generate the Probability Table T3_2- P(Survive | Age) P(Age) as described. Store into the data frame object \"P_SgA_A\". Print the object's content:"
   ]
  },
  {
   "cell_type": "code",
   "execution_count": null,
   "metadata": {
    "collapsed": true
   },
   "outputs": [],
   "source": []
  },
  {
   "cell_type": "markdown",
   "metadata": {},
   "source": [
    "Generate the Probability Table T4_1- P(Age | Survive) as described. Store into the data frame object \"P_AgS\". Print the object's content:"
   ]
  },
  {
   "cell_type": "code",
   "execution_count": null,
   "metadata": {
    "collapsed": true
   },
   "outputs": [],
   "source": []
  },
  {
   "cell_type": "markdown",
   "metadata": {},
   "source": [
    "Generate the Probability Table T4_2- P(Age | Survive) P(Survive) as described. Store into the data frame object \"P_AgS_S\". Print the object's content:"
   ]
  },
  {
   "cell_type": "code",
   "execution_count": null,
   "metadata": {
    "collapsed": true
   },
   "outputs": [],
   "source": []
  },
  {
   "cell_type": "markdown",
   "metadata": {
    "collapsed": true
   },
   "source": [
    "## Compare"
   ]
  },
  {
   "cell_type": "markdown",
   "metadata": {},
   "source": [
    "Compare the row TOTAL of T3_1- P(Survive | Age) with the row TOTAL of T2- P(). Explain:"
   ]
  },
  {
   "cell_type": "code",
   "execution_count": null,
   "metadata": {
    "collapsed": true
   },
   "outputs": [],
   "source": []
  },
  {
   "cell_type": "markdown",
   "metadata": {},
   "source": [
    "Compare the row TOTAL of T3_2- P(Survive | Age) P(Age) with the row TOTAL of T2- P(). Explain:"
   ]
  },
  {
   "cell_type": "code",
   "execution_count": null,
   "metadata": {
    "collapsed": true
   },
   "outputs": [],
   "source": []
  },
  {
   "cell_type": "markdown",
   "metadata": {},
   "source": [
    "Compare the column TOTAL of T4_1- P(Age | Survive) with the column TOTAL of T2- P(). Explain:"
   ]
  },
  {
   "cell_type": "code",
   "execution_count": null,
   "metadata": {
    "collapsed": true
   },
   "outputs": [],
   "source": []
  },
  {
   "cell_type": "markdown",
   "metadata": {},
   "source": [
    "Compare the column TOTAL of T4_2- P(Age | Survive) P(Survive) with the column TOTAL of T2- P(). Explain:"
   ]
  },
  {
   "cell_type": "code",
   "execution_count": null,
   "metadata": {
    "collapsed": true
   },
   "outputs": [],
   "source": []
  },
  {
   "cell_type": "markdown",
   "metadata": {
    "collapsed": true
   },
   "source": [
    "## <center> REFERENCES </center>\n",
    "List resources (book, internet page, etc.) that you used to complete this challenge."
   ]
  },
  {
   "cell_type": "markdown",
   "metadata": {},
   "source": []
  }
 ],
 "metadata": {
  "kernelspec": {
   "display_name": "Python 3",
   "language": "python",
   "name": "python3"
  },
  "language_info": {
   "codemirror_mode": {
    "name": "ipython",
    "version": 3
   },
   "file_extension": ".py",
   "mimetype": "text/x-python",
   "name": "python",
   "nbconvert_exporter": "python",
   "pygments_lexer": "ipython3",
   "version": "3.11.5"
  }
 },
 "nbformat": 4,
 "nbformat_minor": 2
}
